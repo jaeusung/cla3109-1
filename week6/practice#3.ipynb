{
 "cells": [
  {
   "cell_type": "code",
   "execution_count": null,
   "id": "dd139cc8",
   "metadata": {},
   "outputs": [],
   "source": [
    "import re"
   ]
  },
  {
   "cell_type": "code",
   "execution_count": null,
   "id": "2aaf0bec",
   "metadata": {},
   "outputs": [],
   "source": [
    "txt = '''상(上)이 삭전(朔奠)001) 을 지내고 상식(上食)002) 을 올렸다.'''"
   ]
  },
  {
   "cell_type": "code",
   "execution_count": null,
   "id": "187391b4",
   "metadata": {},
   "outputs": [],
   "source": [
    "pattern = re.compile(\"\\(.*?\\)\")"
   ]
  },
  {
   "cell_type": "code",
   "execution_count": null,
   "id": "0f01c363",
   "metadata": {},
   "outputs": [],
   "source": [
    "pattern.match(txt)"
   ]
  },
  {
   "cell_type": "code",
   "execution_count": null,
   "id": "900e32d9",
   "metadata": {},
   "outputs": [],
   "source": [
    "pattern.search(txt)"
   ]
  },
  {
   "cell_type": "code",
   "execution_count": null,
   "id": "94efcecb",
   "metadata": {},
   "outputs": [],
   "source": [
    "pattern.findall(txt)"
   ]
  },
  {
   "cell_type": "code",
   "execution_count": null,
   "id": "a0231db1",
   "metadata": {
    "scrolled": true
   },
   "outputs": [],
   "source": [
    "for t in pattern.finditer(txt):\n",
    "    print(t)"
   ]
  },
  {
   "cell_type": "code",
   "execution_count": null,
   "id": "722b7394",
   "metadata": {},
   "outputs": [],
   "source": [
    "pattern.sub('**한문**', txt)"
   ]
  },
  {
   "cell_type": "markdown",
   "id": "cc4bd016",
   "metadata": {},
   "source": [
    "### [ ] 문자 집합 이용하기."
   ]
  },
  {
   "cell_type": "code",
   "execution_count": null,
   "id": "eaf57ef5",
   "metadata": {},
   "outputs": [],
   "source": [
    "txt = '''상(上)이 삭전(朔奠)001) 을 지내고 상식(上食)002) 을 올렸다.'''\n",
    "pattern = re.compile(\"[0-9]{3}\\) \")\n",
    "pattern.sub('**숫자**', txt)"
   ]
  },
  {
   "cell_type": "markdown",
   "id": "69c61cc5",
   "metadata": {},
   "source": [
    "### . : 모든 문자"
   ]
  },
  {
   "cell_type": "code",
   "execution_count": null,
   "id": "deac4c6b",
   "metadata": {},
   "outputs": [],
   "source": [
    "koryeo_kings = '충렬왕, 충선왕, 충숙왕, 충혜왕, 충목왕, 충정왕, 공민왕'\n",
    "pattern = re.compile(\"충.왕\")\n",
    "pattern.findall(koryeo_kings)"
   ]
  },
  {
   "cell_type": "markdown",
   "id": "4641911e",
   "metadata": {},
   "source": [
    "### * : 앞에 문자가 0부터 무한대로 반복 가능."
   ]
  },
  {
   "cell_type": "code",
   "execution_count": null,
   "id": "daaa6b1b",
   "metadata": {},
   "outputs": [],
   "source": [
    "phrase = '성균관대학교 학생들은 아아아아아주 성실하다.'\n",
    "pattern = re.compile(\"아*주\")\n",
    "pattern.search(phrase)[0]"
   ]
  },
  {
   "cell_type": "markdown",
   "id": "64835028",
   "metadata": {},
   "source": [
    "### + : 최소 1번 이상 반복되어야 함."
   ]
  },
  {
   "cell_type": "code",
   "execution_count": null,
   "id": "f60d7536",
   "metadata": {},
   "outputs": [],
   "source": [
    "univ = 'SKKU'\n",
    "pattern = re.compile(\"SK+U\")\n",
    "pattern.search(univ)[0]"
   ]
  },
  {
   "cell_type": "markdown",
   "id": "adc663f2",
   "metadata": {},
   "source": [
    "### {m, n} : 최소 m번, 최대 n번까지 반복(생략 가능)"
   ]
  },
  {
   "cell_type": "code",
   "execution_count": null,
   "id": "197cfd77",
   "metadata": {},
   "outputs": [],
   "source": [
    "univ = 'SKKKKKKKKKKKKKKKU'\n",
    "pattern = re.compile(\"SK{2,3}U\")\n",
    "pattern.findall(univ)"
   ]
  },
  {
   "cell_type": "markdown",
   "id": "6aef4c92",
   "metadata": {},
   "source": [
    "### ? : {0, 1}과 동일함. 있어도 되고 없어도 되고.\n"
   ]
  },
  {
   "cell_type": "code",
   "execution_count": null,
   "id": "589f5f69",
   "metadata": {},
   "outputs": [],
   "source": [
    "cities = '서울시 인천시 대전 안양 제주'\n",
    "pattern = re.compile(\"[가-힣]{2}시?\")\n",
    "pattern.findall(cities)"
   ]
  },
  {
   "cell_type": "markdown",
   "id": "d226c41e",
   "metadata": {},
   "source": [
    "### | : or 와 동일한 의미"
   ]
  },
  {
   "cell_type": "code",
   "execution_count": null,
   "id": "18ece55e",
   "metadata": {},
   "outputs": [],
   "source": [
    "joseon_kings = '태조 정종 태종 세종 문종 단종 세조 예종 성종 연산군 중종 인종 명종 선조 광해군 인조 효종 현종 숙종 경종 영조 정조 순조 헌종 철종 고종 순종'\n",
    "pattern = re.compile(\".[종|조]\")\n",
    "pattern.findall(joseon_kings)"
   ]
  },
  {
   "cell_type": "markdown",
   "id": "e043c9a5",
   "metadata": {},
   "source": [
    "### ^: 문자열의 맨 처음과 일치함."
   ]
  },
  {
   "cell_type": "code",
   "execution_count": null,
   "id": "12f3717b",
   "metadata": {},
   "outputs": [],
   "source": [
    "koryeo_kings = '충렬왕, 충선왕, 충숙왕, 충혜왕, 충목왕, 충정왕, 공민왕'\n",
    "pattern = re.compile(\"^충.{2}(?=,)\")\n",
    "pattern.findall(koryeo_kings)"
   ]
  },
  {
   "cell_type": "markdown",
   "id": "286086d1",
   "metadata": {},
   "source": [
    "### $:  문자열의 맨 끝과 일치함"
   ]
  },
  {
   "cell_type": "code",
   "execution_count": null,
   "id": "85d2ff49",
   "metadata": {},
   "outputs": [],
   "source": [
    "phrase = \"우리는 모두 성균인\"\n",
    "pattern = re.compile(\"^우.*인$\")\n",
    "pattern.findall(phrase)"
   ]
  },
  {
   "cell_type": "markdown",
   "id": "663798c6",
   "metadata": {},
   "source": [
    "### \\d : 모든 숫자와 일치"
   ]
  },
  {
   "cell_type": "code",
   "execution_count": null,
   "id": "49c34075",
   "metadata": {},
   "outputs": [],
   "source": [
    "txt = '''상(上)이 삭전(朔奠)001) 을 지내고 상식(上食)002) 을 올렸다.'''\n",
    "pattern = re.compile(r\"\\d+\\) \")\n",
    "pattern.sub('**숫자**', txt)"
   ]
  },
  {
   "cell_type": "markdown",
   "id": "65a63c1c",
   "metadata": {},
   "source": [
    "### \\s : 모든 공백 문자와 동일. [ \\t\\n\\r\\f\\v] 와 동일함."
   ]
  },
  {
   "cell_type": "code",
   "execution_count": null,
   "id": "642ee36e",
   "metadata": {},
   "outputs": [],
   "source": [
    "txt = '''상(上)이 삭전(朔奠)001) 을 지내고 상식(上食)002) 을 올렸다.'''\n",
    "pattern = re.compile(r\"\\d+\\)\\s\")\n",
    "pattern.sub('**숫자**', txt)"
   ]
  },
  {
   "cell_type": "markdown",
   "id": "10408346",
   "metadata": {},
   "source": [
    "### \\w: 모든 문자와 동일함"
   ]
  },
  {
   "cell_type": "code",
   "execution_count": null,
   "id": "f7833066",
   "metadata": {},
   "outputs": [],
   "source": [
    "txt = '''상(上)이 삭전(朔奠)001) 을 지내고 상식(上食)002) 을 올렸다.'''\n",
    "pattern = re.compile(\"\\(\\w+\\)\")\n",
    "pattern.sub('**한자**', txt)"
   ]
  },
  {
   "cell_type": "code",
   "execution_count": null,
   "id": "2ab311b6",
   "metadata": {},
   "outputs": [],
   "source": [
    "s = \"저의 이메일 주소는 hyeshinoh@gmail.com입니다. 또한 panda706@naver.com도 가지고 있습니다.\"\n",
    "p = \"[0-9a-zA-Z]+@[0-9a-z]+\\.[0-9a-z]+\"          # \\. : 패턴이 아니고 \".\"을 문자 자체로 사용\n",
    "# result = True if re.search(p, s) else False\n",
    "# print(result, re.findall(p, s))\n",
    "re.findall(p, s)"
   ]
  },
  {
   "cell_type": "code",
   "execution_count": null,
   "id": "4b3102ef",
   "metadata": {},
   "outputs": [],
   "source": [
    "s = \"저의 전화번호는 010-1111-2222이고 주민등록번호는 870101-1234567 입니다\"\n",
    "p = \"[0-9]{6}\\-[0-9]{7}\"          # \\(escaping)을 안해줘도 문제는 없음\n",
    "print(re.findall(p, s))\n",
    "p = \"([0-9]{6})\\-([0-9]{7})\"      # 그룹핑\n",
    "print(re.findall(p, s))\n",
    "re.sub(p, \"\\g<1>-********\", s)    # \\g<1> : 그룹핑 첫번째(0부터 세지 않음. 앞의 그룹) 데이터 사용"
   ]
  },
  {
   "cell_type": "markdown",
   "id": "5fc08272",
   "metadata": {},
   "source": [
    "### 실습과 참고자료"
   ]
  },
  {
   "cell_type": "markdown",
   "id": "360d7037",
   "metadata": {},
   "source": [
    "#### [정규표현식 연습하기](https://regexone.com/)\n",
    "#### [정규표현식 온라인 테스트](https://regex101.com/)\n",
    "#### [정규표현식 온라인 분석기](https://regexr.com/)"
   ]
  },
  {
   "cell_type": "code",
   "execution_count": null,
   "id": "edb14553",
   "metadata": {},
   "outputs": [],
   "source": []
  }
 ],
 "metadata": {
  "kernelspec": {
   "display_name": "Python 3 (ipykernel)",
   "language": "python",
   "name": "python3"
  },
  "language_info": {
   "codemirror_mode": {
    "name": "ipython",
    "version": 3
   },
   "file_extension": ".py",
   "mimetype": "text/x-python",
   "name": "python",
   "nbconvert_exporter": "python",
   "pygments_lexer": "ipython3",
   "version": "3.7.11"
  }
 },
 "nbformat": 4,
 "nbformat_minor": 5
}
