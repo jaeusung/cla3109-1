{
 "cells": [
  {
   "cell_type": "code",
   "execution_count": null,
   "id": "aad5422c",
   "metadata": {},
   "outputs": [],
   "source": [
    "import re"
   ]
  },
  {
   "cell_type": "markdown",
   "id": "8e0aba80",
   "metadata": {},
   "source": [
    "### Q1. 피카츄는 \"pi\", \"ka\", \"chu\"를 발음할 수 있다. 따라서, 피카츄는 이 세 음절을 합친 단어만 발음할 수 있다. 예를 들면, \"pikapi\"와 \"pikachu\"가 있다. 문자열 S가 주어졌을 때, 피카츄가 발음할 수 있는 문자열인지 아닌지 구하는 프로그램을 작성하시오.\n",
    "\n"
   ]
  },
  {
   "cell_type": "code",
   "execution_count": null,
   "id": "60b41d2f",
   "metadata": {},
   "outputs": [],
   "source": [
    "def pikachu(s):\n",
    "    return len(s) == len(''.join(re.findall('pi|ka|chu', s)))\n",
    "print(pikachu(\"pikapi\")) # return True\n",
    "print(pikachu(\"pipikachu\")) # return True\n",
    "print(pikachu(\"pikabu\")) # return False\n",
    "print(pikachu(\"kachupi\")) #return True"
   ]
  },
  {
   "cell_type": "markdown",
   "id": "73efa4be",
   "metadata": {},
   "source": [
    "### Q2. 다음 html 문서는 조선왕조실록 태종실록 [<코끼리를 전라도 해도에 두도록 명하다>](http://sillok.history.go.kr/id/kca_11311005_004) 기사이다. html parser를 사용하지 않고, 정규표현식만을 이용하여 기사 본문 내용(<```p class=\"paragraph\">```)을 가져오는 정규표현식을 작성하시오."
   ]
  },
  {
   "cell_type": "code",
   "execution_count": null,
   "id": "22aac2a7",
   "metadata": {},
   "outputs": [],
   "source": [
    "content = '''<div class=\"ins_view_pd\"><p class=\"paragraph\">코끼리[象]를 <span class=\"idx_wrap idx_place\">전라도</span>의 해도(海島)에 두도록 명하였다. 병조 판서 <span class=\"idx_wrap idx_person tooltip2\" title=\"柳廷顯\">유정현(柳廷顯)</span>이 진언(進言)하였다.</p> <p class=\"paragraph\">\"<span class=\"idx_wrap idx_place\">일본 나라</span>에서 바친바, 길들인 코끼리는 이미 성상의 완호(玩好)하는 물건도 아니요, 또한 나라에 이익도 없습니다. 두 사람을 다쳤는데, 만약 법으로 논한다면 사람을 죽인 것은 죽이는 것으로 마땅합니다. 또 일 년에 먹이는 꼴은 콩이 거의 수백석에 이르니, 청컨대, 주공(周公)이 코뿔소와 코끼리를 몰아낸 고사(故事)를 본받아 <span class=\"idx_wrap idx_place\">전라도</span>의 해도(海島)에 두소서.\"</p> <p class=\"paragraph\">임금이 웃으면서 그대로 따랐다.</p><hr class=\"ins_view_line\"><ul class=\"ins_source\"><li class=\"view_font01\"><span class=\"pr_20\">【태백산사고본】 11책 26권 37장 A면</span><span>【국편영인본】 1책 694면</span></li><li class=\"view_font02\"><span class=\"ins_source_tit\">【분류】</span><div>과학-생물(生物)</div></li></ul><hr class=\"ins_view_line\"><ul class=\"ins_footnote\"></ul></div>'''\n",
    "print(content)"
   ]
  },
  {
   "cell_type": "code",
   "execution_count": null,
   "id": "e81cbec3",
   "metadata": {},
   "outputs": [],
   "source": [
    "pattern = re.compile('(?<=<p class=\"paragraph\">).+?(?=</p>)')\n",
    "# pattern = re.compile('(?!<p class=\"paragraph\">).+')\n",
    "\n",
    "pattern.findall(content)"
   ]
  },
  {
   "cell_type": "markdown",
   "id": "52cff805",
   "metadata": {},
   "source": [
    "### ref. 긍정형 후방탐색 \n",
    "```?<=``` : 전방탐색이 앞에 찾고자 하는 문자열이 있고 ?= 문자 다음에 참고하는 문자열이 있다면, 후방탐색은 참고 문자열이 앞에 있고 찾고자 하는 문자열이 뒤에 있는 패턴이다."
   ]
  },
  {
   "cell_type": "markdown",
   "id": "186f4696",
   "metadata": {},
   "source": [
    "### Q3. 변수명을 정하는 표기법은 여러 가지가 있다.\n",
    "\n",
    "- 카멜 표기법 (Camel Case): 각 단어의 첫 글자를 대문자로 적는다. 단, 가장 첫 글자는 소문자를 사용한다.\n",
    "    - 예시: camelCase, variableN, thisIsCamelCase, howToSolveThisProblem\n",
    "- 스네이크 표기법 (Snake Case): 소문자만 사용하고, 각 단어의 사이에 언더바(_)를 넣어서 적는다.\n",
    "    - 예시: snake_case, variable_n, this_is_snake_case, how_to_solve_this_problem\n",
    "- 파스칼 표기법 (Pascal Case): 카멜 표기법과 같지만, 가장 첫 글자도 대문자를 사용한다.\n",
    "    - 예시: PascalCase, VariableN, ThisIsPascalCase, HowToSolveThisProblem\n",
    "\n",
    "### 한 표기법을 사용한 변수명이 주어졌을 때, 이를 다른 표기법으로 모두 변환하는 프로그램을 작성하시오."
   ]
  },
  {
   "cell_type": "code",
   "execution_count": null,
   "id": "56a56780",
   "metadata": {},
   "outputs": [],
   "source": [
    "def convert_variable(variable):\n",
    "    res = {\"pascal\":\"\", \"camel\":\"\", \"snake\":\"\"}\n",
    "    \n",
    "    if variable[0].isupper(): # Pascal Case\n",
    "        res['pascal'] = variable\n",
    "        res['camel'] = variable[0].lower() + variable[1:]\n",
    "        res['snake'] = re.sub('([A-Z]+)',r'_\\1',res['camel']).lower()\n",
    "        \n",
    "    elif len([v for v in variable if v.isupper()]) > 0: # Camel Case\n",
    "        res['pascal'] = variable[0].upper() + variable[1:]\n",
    "        res['camel'] = variable\n",
    "        res['snake'] = re.sub('([A-Z]+)',r'_\\1',variable)\n",
    "        \n",
    "    else: # Snake Case\n",
    "        res['pascal'] = ''.join(x.title() for x in variable.split('_'))\n",
    "        res['camel'] = res['pascal'][0].lower()+res['pascal'][1:]\n",
    "        res['snake'] = variable\n",
    "    return res\n",
    "\n",
    "convert_variable(\"variable_n\") # expected output: variableN, variable_n, VariableN\n",
    "# convert_variable(\"HowToSolveThisProblem\") # expected output: howToSolveThisProblem, how_to_solve_this_problem, HowToSolveThisProblem\n",
    "# convert_variable(\"skku\") # expected output: skku, skku, Skku\n",
    "    "
   ]
  },
  {
   "cell_type": "markdown",
   "id": "74ec53e6",
   "metadata": {},
   "source": [
    "### Q4. 이메일 형식이 올바른 지 확인하는 프로그램을 작성하시오."
   ]
  },
  {
   "cell_type": "code",
   "execution_count": null,
   "id": "118eb0f2",
   "metadata": {},
   "outputs": [],
   "source": [
    "def check_email(email):\n",
    "    return True if re.match(\"[0-9a-zA-Z]*(\\.?).+@[0-9a-z]+\\.[0-9a-z]+\", email) else False\n",
    "# check_email(\"example@skku.edu\") # expected output: return True\n",
    "# check_email(\"example@skku\") # expected output: return False\n",
    "# check_email(\"example@\") # expected output: return False\n",
    "check_email(\"example.phd@skku.edu\") # expected output: return True"
   ]
  },
  {
   "cell_type": "markdown",
   "id": "52993a07",
   "metadata": {},
   "source": [
    "### Q5. 주민등록번호의 뒷자리 중 첫 숫자를 제외하고 나머지는 *으로 마스킹하는 프로그램을 작성하시오. 단, 뒷자리의 첫 숫자는 1, 2, 3, 4만 가능함."
   ]
  },
  {
   "cell_type": "code",
   "execution_count": null,
   "id": "148a2eff",
   "metadata": {},
   "outputs": [],
   "source": [
    "def check_id(pid):\n",
    "    if len(re.findall('\\d{6}\\-[1-4]\\d{6}', pid)):\n",
    "        return re.sub(\"(\\d{6}\\-[1-4])(\\d{6})\",\"\\g<1>******\", pid)\n",
    "    else:\n",
    "        raise Exception(\"올바른 형식의 번호를 입력하세요.\")\n",
    "# check_id(\"900212-1234567\") # expected output: return 900212-1******\n",
    "# check_id(\"900212-12345\") # expected output: raise error \"올바른 형식의 번호를 입력하세요.\"\n",
    "check_id(\"900212-9000000\")# expected output: raise error \"올바른 형식의 번호를 입력하세요.\"\n"
   ]
  },
  {
   "cell_type": "code",
   "execution_count": null,
   "id": "99e50e50",
   "metadata": {},
   "outputs": [],
   "source": []
  }
 ],
 "metadata": {
  "kernelspec": {
   "display_name": "Python 3 (ipykernel)",
   "language": "python",
   "name": "python3"
  },
  "language_info": {
   "codemirror_mode": {
    "name": "ipython",
    "version": 3
   },
   "file_extension": ".py",
   "mimetype": "text/x-python",
   "name": "python",
   "nbconvert_exporter": "python",
   "pygments_lexer": "ipython3",
   "version": "3.7.11"
  }
 },
 "nbformat": 4,
 "nbformat_minor": 5
}
