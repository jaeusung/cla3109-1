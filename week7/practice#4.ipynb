{
 "cells": [
  {
   "cell_type": "markdown",
   "id": "4f2de54f",
   "metadata": {},
   "source": [
    "### 1. 그리스 문자"
   ]
  },
  {
   "cell_type": "markdown",
   "id": "f689a828",
   "metadata": {},
   "source": [
    "```$ \\alpha $``` 처럼 입력하면 그리스 문자를 출력해 준다."
   ]
  },
  {
   "cell_type": "markdown",
   "id": "5194b705",
   "metadata": {},
   "source": [
    "$\\epsilon$"
   ]
  },
  {
   "cell_type": "code",
   "execution_count": 25,
   "id": "b8b6fffc",
   "metadata": {},
   "outputs": [
    {
     "data": {
      "text/latex": [
       "$\\alpha$"
      ],
      "text/plain": [
       "<IPython.core.display.Latex object>"
      ]
     },
     "metadata": {},
     "output_type": "display_data"
    },
    {
     "data": {
      "text/latex": [
       "$\\epsilon$"
      ],
      "text/plain": [
       "<IPython.core.display.Latex object>"
      ]
     },
     "metadata": {},
     "output_type": "display_data"
    },
    {
     "data": {
      "text/latex": [
       "$\\psi$"
      ],
      "text/plain": [
       "<IPython.core.display.Latex object>"
      ]
     },
     "metadata": {},
     "output_type": "display_data"
    }
   ],
   "source": [
    "from IPython.display import display, Latex\n",
    "display(Latex(r\"$\\alpha$\"))\n",
    "display(Latex(r\"$\\epsilon$\"))\n",
    "display(Latex(r\"$\\psi$\"))"
   ]
  },
  {
   "cell_type": "markdown",
   "id": "667dde89",
   "metadata": {},
   "source": [
    "#### Q1. 슬라이드에서 못 읽는 문자를 출력해 보세요."
   ]
  },
  {
   "cell_type": "code",
   "execution_count": 26,
   "id": "6a85833a",
   "metadata": {},
   "outputs": [],
   "source": [
    "# your code here."
   ]
  },
  {
   "cell_type": "markdown",
   "id": "22417e15",
   "metadata": {},
   "source": [
    "### 2. Data Type"
   ]
  },
  {
   "cell_type": "code",
   "execution_count": 27,
   "id": "f580429e",
   "metadata": {},
   "outputs": [],
   "source": [
    "import pandas as pd"
   ]
  },
  {
   "cell_type": "code",
   "execution_count": 69,
   "id": "0dbbdfab",
   "metadata": {},
   "outputs": [],
   "source": [
    "cat = pd.Categorical(['Venti','Medium','Medium', 'Tall','Venti','Short','Venti'], \n",
    "                     ['Medium', 'Tall', 'Venti'],ordered=True)\n",
    "cat = pd.Series(cat)\n",
    "df = pd.DataFrame({\"Person\": [\"Harry\", \"Hermione\", \"Ron\", \"Neville\", \"Sirius\", \"Albus\", \"Luna\"], \"Size\": cat})"
   ]
  },
  {
   "cell_type": "code",
   "execution_count": 64,
   "id": "235bde28",
   "metadata": {},
   "outputs": [
    {
     "data": {
      "text/plain": [
       "CategoricalDtype(categories=['Medium', 'Tall', 'Venti'], ordered=True)"
      ]
     },
     "execution_count": 64,
     "metadata": {},
     "output_type": "execute_result"
    }
   ],
   "source": [
    "df['Size'].dtype"
   ]
  },
  {
   "cell_type": "code",
   "execution_count": 65,
   "id": "55ab3566",
   "metadata": {},
   "outputs": [
    {
     "data": {
      "text/plain": [
       "'Venti'"
      ]
     },
     "execution_count": 65,
     "metadata": {},
     "output_type": "execute_result"
    }
   ],
   "source": [
    "df.Size.max()"
   ]
  },
  {
   "cell_type": "code",
   "execution_count": 87,
   "id": "44a4f63f",
   "metadata": {},
   "outputs": [
    {
     "data": {
      "text/plain": [
       "<AxesSubplot:xlabel='Size'>"
      ]
     },
     "execution_count": 87,
     "metadata": {},
     "output_type": "execute_result"
    },
    {
     "data": {
      "image/png": "[encoded data removed]",
      "text/plain": [
       "<Figure size 432x288 with 1 Axes>"
      ]
     },
     "metadata": {
      "needs_background": "light"
     },
     "output_type": "display_data"
    }
   ],
   "source": [
    "df['Count'] = [3,3,2,2,1,5,3]\n",
    "df.groupby('Size')['Count'].sum().plot.bar()"
   ]
  },
  {
   "cell_type": "code",
   "execution_count": 91,
   "id": "b625793f",
   "metadata": {},
   "outputs": [
    {
     "name": "stdout",
     "output_type": "stream",
     "text": [
      "Collecting seaborn\n",
      "  Downloading seaborn-0.11.2-py3-none-any.whl (292 kB)\n",
      "\u001b[K     |████████████████████████████████| 292 kB 565 kB/s eta 0:00:01\n",
      "\u001b[?25hCollecting scipy>=1.0\n",
      "  Using cached scipy-1.7.3-cp37-cp37m-macosx_10_9_x86_64.whl (33.0 MB)\n",
      "Requirement already satisfied: matplotlib>=2.2 in /Users/dhchoi/opt/miniconda3/lib/python3.7/site-packages (from seaborn) (3.5.1)\n",
      "Requirement already satisfied: pandas>=0.23 in /Users/dhchoi/opt/miniconda3/lib/python3.7/site-packages (from seaborn) (1.3.4)\n",
      "Requirement already satisfied: numpy>=1.15 in /Users/dhchoi/opt/miniconda3/lib/python3.7/site-packages (from seaborn) (1.21.2)\n",
      "Requirement already satisfied: fonttools>=4.22.0 in /Users/dhchoi/opt/miniconda3/lib/python3.7/site-packages (from matplotlib>=2.2->seaborn) (4.29.1)\n",
      "Requirement already satisfied: kiwisolver>=1.0.1 in /Users/dhchoi/opt/miniconda3/lib/python3.7/site-packages (from matplotlib>=2.2->seaborn) (1.3.2)\n",
      "Requirement already satisfied: packaging>=20.0 in /Users/dhchoi/opt/miniconda3/lib/python3.7/site-packages (from matplotlib>=2.2->seaborn) (21.3)\n",
      "Requirement already satisfied: pyparsing>=2.2.1 in /Users/dhchoi/opt/miniconda3/lib/python3.7/site-packages (from matplotlib>=2.2->seaborn) (3.0.4)\n",
      "Requirement already satisfied: pillow>=6.2.0 in /Users/dhchoi/opt/miniconda3/lib/python3.7/site-packages (from matplotlib>=2.2->seaborn) (9.0.1)\n",
      "Requirement already satisfied: python-dateutil>=2.7 in /Users/dhchoi/opt/miniconda3/lib/python3.7/site-packages (from matplotlib>=2.2->seaborn) (2.8.2)\n",
      "Requirement already satisfied: cycler>=0.10 in /Users/dhchoi/opt/miniconda3/lib/python3.7/site-packages (from matplotlib>=2.2->seaborn) (0.11.0)\n",
      "Requirement already satisfied: pytz>=2017.3 in /Users/dhchoi/opt/miniconda3/lib/python3.7/site-packages (from pandas>=0.23->seaborn) (2021.3)\n",
      "Requirement already satisfied: six>=1.5 in /Users/dhchoi/opt/miniconda3/lib/python3.7/site-packages (from python-dateutil>=2.7->matplotlib>=2.2->seaborn) (1.16.0)\n",
      "Installing collected packages: scipy, seaborn\n",
      "Successfully installed scipy-1.7.3 seaborn-0.11.2\n"
     ]
    }
   ],
   "source": [
    "!pip install seaborn"
   ]
  },
  {
   "cell_type": "code",
   "execution_count": 92,
   "id": "06455f5f",
   "metadata": {},
   "outputs": [
    {
     "data": {
      "text/plain": [
       "<AxesSubplot:xlabel='Size', ylabel='Count'>"
      ]
     },
     "execution_count": 92,
     "metadata": {},
     "output_type": "execute_result"
    },
    {
     "data": {
      "image/png": "[encoded data removed]",
      "text/plain": [
       "<Figure size 432x288 with 1 Axes>"
      ]
     },
     "metadata": {
      "needs_background": "light"
     },
     "output_type": "display_data"
    }
   ],
   "source": [
    "import seaborn as sns\n",
    "sns.boxplot(x='Size', y='Count', data=df)"
   ]
  },
  {
   "cell_type": "code",
   "execution_count": null,
   "id": "636552c8",
   "metadata": {},
   "outputs": [],
   "source": [
    "df.loc['0', 'Size'] = 'Short'"
   ]
  },
  {
   "cell_type": "code",
   "execution_count": 94,
   "id": "1abe367c",
   "metadata": {},
   "outputs": [
    {
     "name": "stdout",
     "output_type": "stream",
     "text": [
      "Collecting statsmodels\n",
      "  Downloading statsmodels-0.13.2-cp37-cp37m-macosx_10_9_x86_64.whl (9.5 MB)\n",
      "\u001b[K     |████████████████████████████████| 9.5 MB 5.9 MB/s eta 0:00:01\n",
      "\u001b[?25hRequirement already satisfied: scipy>=1.3 in /Users/dhchoi/opt/miniconda3/lib/python3.7/site-packages (from statsmodels) (1.7.3)\n",
      "Requirement already satisfied: pandas>=0.25 in /Users/dhchoi/opt/miniconda3/lib/python3.7/site-packages (from statsmodels) (1.3.4)\n",
      "Requirement already satisfied: numpy>=1.17 in /Users/dhchoi/opt/miniconda3/lib/python3.7/site-packages (from statsmodels) (1.21.2)\n",
      "Collecting patsy>=0.5.2\n",
      "  Downloading patsy-0.5.2-py2.py3-none-any.whl (233 kB)\n",
      "\u001b[K     |████████████████████████████████| 233 kB 5.1 MB/s eta 0:00:01\n",
      "\u001b[?25hRequirement already satisfied: packaging>=21.3 in /Users/dhchoi/opt/miniconda3/lib/python3.7/site-packages (from statsmodels) (21.3)\n",
      "Requirement already satisfied: pyparsing!=3.0.5,>=2.0.2 in /Users/dhchoi/opt/miniconda3/lib/python3.7/site-packages (from packaging>=21.3->statsmodels) (3.0.4)\n",
      "Requirement already satisfied: python-dateutil>=2.7.3 in /Users/dhchoi/opt/miniconda3/lib/python3.7/site-packages (from pandas>=0.25->statsmodels) (2.8.2)\n",
      "Requirement already satisfied: pytz>=2017.3 in /Users/dhchoi/opt/miniconda3/lib/python3.7/site-packages (from pandas>=0.25->statsmodels) (2021.3)\n",
      "Requirement already satisfied: six in /Users/dhchoi/opt/miniconda3/lib/python3.7/site-packages (from patsy>=0.5.2->statsmodels) (1.16.0)\n",
      "Installing collected packages: patsy, statsmodels\n",
      "Successfully installed patsy-0.5.2 statsmodels-0.13.2\n"
     ]
    }
   ],
   "source": [
    "!pip install statsmodels"
   ]
  },
  {
   "cell_type": "code",
   "execution_count": 105,
   "id": "56e9a9df",
   "metadata": {},
   "outputs": [
    {
     "data": {
      "text/plain": [
       "(<Figure size 432x288 with 3 Axes>,\n",
       " {('Medium', 'N'): (0.0, 0.0, 0.33003300330033003, 0.4983388704318937),\n",
       "  ('Medium', 'Y'): (0.0,\n",
       "   0.5016611295681063,\n",
       "   0.33003300330033003,\n",
       "   0.4983388704318937),\n",
       "  ('Tall', 'N'): (0.334983498349835,\n",
       "   0.0,\n",
       "   0.16501650165016504,\n",
       "   0.9966777408637874),\n",
       "  ('Tall', 'Y'): (0.334983498349835, 1.0, 0.16501650165016504, 0.0),\n",
       "  ('Venti', 'N'): (0.504950495049505,\n",
       "   0.0,\n",
       "   0.49504950495049505,\n",
       "   0.6644518272425248),\n",
       "  ('Venti', 'Y'): (0.504950495049505,\n",
       "   0.6677740863787375,\n",
       "   0.49504950495049505,\n",
       "   0.33222591362126247)})"
      ]
     },
     "execution_count": 105,
     "metadata": {},
     "output_type": "execute_result"
    },
    {
     "data": {
      "image/png": "[encoded data removed]",
      "text/plain": [
       "<Figure size 432x288 with 3 Axes>"
      ]
     },
     "metadata": {
      "needs_background": "light"
     },
     "output_type": "display_data"
    }
   ],
   "source": [
    "from statsmodels.graphics.mosaicplot import mosaic\n",
    "df['Sugar'] = ['Y']*2 + ['N']*5\n",
    "mosaic(df, ['Size','Sugar'])"
   ]
  },
  {
   "cell_type": "code",
   "execution_count": 119,
   "id": "04165e2f",
   "metadata": {},
   "outputs": [],
   "source": [
    "%matplotlib inline\n",
    "import matplotlib.pylab as plt"
   ]
  },
  {
   "cell_type": "code",
   "execution_count": 122,
   "id": "eb57a845",
   "metadata": {},
   "outputs": [
    {
     "data": {
      "text/plain": [
       "<matplotlib.lines.Line2D at 0x7fe2b0ca2fd0>"
      ]
     },
     "execution_count": 122,
     "metadata": {},
     "output_type": "execute_result"
    },
    {
     "data": {
      "image/png": "[encoded data removed]",
      "text/plain": [
       "<Figure size 432x288 with 1 Axes>"
      ]
     },
     "metadata": {
      "needs_background": "light"
     },
     "output_type": "display_data"
    }
   ],
   "source": [
    "import random\n",
    "result = []\n",
    "for trial in range(1, 1000):\n",
    "    res = []\n",
    "    for i in range(0, trial):\n",
    "        n = random.randint(1,6)\n",
    "        res.append(n)\n",
    "    p = res.count(1)/trial\n",
    "    result.append(p)\n",
    "pd.Series(result).plot()\n",
    "plt.axhline(y=1/6, color='r', linewidth=1)"
   ]
  },
  {
   "cell_type": "code",
   "execution_count": 135,
   "id": "7eceefb4",
   "metadata": {},
   "outputs": [
    {
     "data": {
      "text/html": [
       "<div>\n",
       "<style scoped>\n",
       "    .dataframe tbody tr th:only-of-type {\n",
       "        vertical-align: middle;\n",
       "    }\n",
       "\n",
       "    .dataframe tbody tr th {\n",
       "        vertical-align: top;\n",
       "    }\n",
       "\n",
       "    .dataframe thead th {\n",
       "        text-align: right;\n",
       "    }\n",
       "</style>\n",
       "<table border=\"1\" class=\"dataframe\">\n",
       "  <thead>\n",
       "    <tr style=\"text-align: right;\">\n",
       "      <th></th>\n",
       "      <th>location</th>\n",
       "      <th>age</th>\n",
       "      <th>gender</th>\n",
       "      <th>party</th>\n",
       "    </tr>\n",
       "  </thead>\n",
       "  <tbody>\n",
       "    <tr>\n",
       "      <th>0</th>\n",
       "      <td>대전</td>\n",
       "      <td>56</td>\n",
       "      <td>M</td>\n",
       "      <td>Red</td>\n",
       "    </tr>\n",
       "    <tr>\n",
       "      <th>1</th>\n",
       "      <td>충남</td>\n",
       "      <td>26</td>\n",
       "      <td>M</td>\n",
       "      <td>Blue</td>\n",
       "    </tr>\n",
       "    <tr>\n",
       "      <th>2</th>\n",
       "      <td>경북</td>\n",
       "      <td>67</td>\n",
       "      <td>M</td>\n",
       "      <td>Blue</td>\n",
       "    </tr>\n",
       "    <tr>\n",
       "      <th>3</th>\n",
       "      <td>부산</td>\n",
       "      <td>48</td>\n",
       "      <td>F</td>\n",
       "      <td>Red</td>\n",
       "    </tr>\n",
       "    <tr>\n",
       "      <th>4</th>\n",
       "      <td>서울</td>\n",
       "      <td>35</td>\n",
       "      <td>F</td>\n",
       "      <td>Red</td>\n",
       "    </tr>\n",
       "    <tr>\n",
       "      <th>...</th>\n",
       "      <td>...</td>\n",
       "      <td>...</td>\n",
       "      <td>...</td>\n",
       "      <td>...</td>\n",
       "    </tr>\n",
       "    <tr>\n",
       "      <th>995</th>\n",
       "      <td>전북</td>\n",
       "      <td>60</td>\n",
       "      <td>F</td>\n",
       "      <td>Blue</td>\n",
       "    </tr>\n",
       "    <tr>\n",
       "      <th>996</th>\n",
       "      <td>전남</td>\n",
       "      <td>25</td>\n",
       "      <td>F</td>\n",
       "      <td>Blue</td>\n",
       "    </tr>\n",
       "    <tr>\n",
       "      <th>997</th>\n",
       "      <td>경기</td>\n",
       "      <td>52</td>\n",
       "      <td>M</td>\n",
       "      <td>Blue</td>\n",
       "    </tr>\n",
       "    <tr>\n",
       "      <th>998</th>\n",
       "      <td>전북</td>\n",
       "      <td>72</td>\n",
       "      <td>F</td>\n",
       "      <td>Blue</td>\n",
       "    </tr>\n",
       "    <tr>\n",
       "      <th>999</th>\n",
       "      <td>인천</td>\n",
       "      <td>63</td>\n",
       "      <td>M</td>\n",
       "      <td>Red</td>\n",
       "    </tr>\n",
       "  </tbody>\n",
       "</table>\n",
       "<p>1000 rows × 4 columns</p>\n",
       "</div>"
      ],
      "text/plain": [
       "    location  age gender party\n",
       "0         대전   56      M   Red\n",
       "1         충남   26      M  Blue\n",
       "2         경북   67      M  Blue\n",
       "3         부산   48      F   Red\n",
       "4         서울   35      F   Red\n",
       "..       ...  ...    ...   ...\n",
       "995       전북   60      F  Blue\n",
       "996       전남   25      F  Blue\n",
       "997       경기   52      M  Blue\n",
       "998       전북   72      F  Blue\n",
       "999       인천   63      M   Red\n",
       "\n",
       "[1000 rows x 4 columns]"
      ]
     },
     "execution_count": 135,
     "metadata": {},
     "output_type": "execute_result"
    }
   ],
   "source": [
    "import numpy as np\n",
    "location = ['서울','경기','인천','강원','충남','충북','대전','전북','전남','광주','경북','대구','부산','울산','경남','제주','세종']\n",
    "age = [10, 20, 30, 40 ]\n",
    "gender = ['M','F','E']\n",
    "party = ['Red', 'Blue']\n",
    "df = pd.DataFrame()                                                                                                                                                                     \n",
    "N = 1000                                                                                                                                                                                \n",
    "df[\"location\"] = np.random.choice(location, size=N, p=[0.1,0.1,0.1]+[0.05]*14)                                                                                                                                     \n",
    "df[\"age\"] = np.random.choice(range(20, 80), size=N)                                                                                                                                               \n",
    "df[\"gender\"] = np.random.choice(gender, p = [0.495, 0.495, 0.01], size=N)  \n",
    "df['party'] = df.apply(lambda x: np.random.choice(party, p=[0.1, 0.9]) if x['location']=='대전' else np.random.choice(party), axis=1)\n",
    "df"
   ]
  },
  {
   "cell_type": "markdown",
   "id": "badc4d0c",
   "metadata": {},
   "source": [
    "#### Q2. 임의의 1명을 골랐을 때, 그 사람이 대전 사람일 확률은?"
   ]
  },
  {
   "cell_type": "code",
   "execution_count": 162,
   "id": "1f40aa41",
   "metadata": {},
   "outputs": [
    {
     "ename": "SyntaxError",
     "evalue": "invalid syntax (3141642874.py, line 1)",
     "output_type": "error",
     "traceback": [
      "\u001b[0;36m  File \u001b[0;32m\"/var/folders/hc/scqlbdh52l1d3kzx4bs9bd8r0000gn/T/ipykernel_51306/3141642874.py\"\u001b[0;36m, line \u001b[0;32m1\u001b[0m\n\u001b[0;31m    p_dj = # your code here.\u001b[0m\n\u001b[0m                            ^\u001b[0m\n\u001b[0;31mSyntaxError\u001b[0m\u001b[0;31m:\u001b[0m invalid syntax\n"
     ]
    }
   ],
   "source": [
    "p_dj = # your code here."
   ]
  },
  {
   "cell_type": "markdown",
   "id": "ffb4115c",
   "metadata": {},
   "source": [
    "#### Q3. 임의의 1명을 골랐을 때, 그 사람이 Blue 당을 지지할 확률은?"
   ]
  },
  {
   "cell_type": "code",
   "execution_count": null,
   "id": "f07bdf5c",
   "metadata": {},
   "outputs": [],
   "source": [
    "p_blue = # your code here."
   ]
  },
  {
   "cell_type": "code",
   "execution_count": 146,
   "id": "3f8d2df9",
   "metadata": {},
   "outputs": [
    {
     "data": {
      "text/plain": [
       "0.505"
      ]
     },
     "execution_count": 146,
     "metadata": {},
     "output_type": "execute_result"
    }
   ],
   "source": [
    "p_blue"
   ]
  },
  {
   "cell_type": "markdown",
   "id": "74267480",
   "metadata": {},
   "source": [
    "#### Q4. 대전 사람일 때, 그 사람이 Blue 당을 지지할 확률은?"
   ]
  },
  {
   "cell_type": "code",
   "execution_count": 161,
   "id": "3b617e19",
   "metadata": {},
   "outputs": [
    {
     "data": {
      "text/plain": [
       "0.8775510204081631"
      ]
     },
     "execution_count": 161,
     "metadata": {},
     "output_type": "execute_result"
    }
   ],
   "source": [
    "p_db = len(df[(df['party'] == 'Blue') & (df['location']=='대전')]) / len(df)\n",
    "p_db / p_dj"
   ]
  },
  {
   "cell_type": "markdown",
   "id": "78927b67",
   "metadata": {},
   "source": [
    "#### 대"
   ]
  }
 ],
 "metadata": {
  "kernelspec": {
   "display_name": "Python 3 (ipykernel)",
   "language": "python",
   "name": "python3"
  },
  "language_info": {
   "codemirror_mode": {
    "name": "ipython",
    "version": 3
   },
   "file_extension": ".py",
   "mimetype": "text/x-python",
   "name": "python",
   "nbconvert_exporter": "python",
   "pygments_lexer": "ipython3",
   "version": "3.7.11"
  }
 },
 "nbformat": 4,
 "nbformat_minor": 5
}
