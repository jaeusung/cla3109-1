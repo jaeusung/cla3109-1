{
 "cells": [
  {
   "cell_type": "markdown",
   "id": "4f2de54f",
   "metadata": {},
   "source": [
    "### 1. 그리스 문자"
   ]
  },
  {
   "cell_type": "markdown",
   "id": "f689a828",
   "metadata": {},
   "source": [
    "```$ \\alpha $``` 처럼 입력하면 그리스 문자를 출력해 준다."
   ]
  },
  {
   "cell_type": "markdown",
   "id": "3ce20f51",
   "metadata": {},
   "source": [
    "$\\epsilon$"
   ]
  },
  {
   "cell_type": "code",
   "execution_count": null,
   "id": "2bcbd8ca",
   "metadata": {},
   "outputs": [],
   "source": [
    "from IPython.display import display, Latex\n",
    "display(Latex(r\"$\\alpha$\"))\n",
    "display(Latex(r\"$\\epsilon$\"))\n",
    "display(Latex(r\"$\\psi$\"))"
   ]
  },
  {
   "cell_type": "markdown",
   "id": "d8b9dfb8",
   "metadata": {},
   "source": [
    "#### Q1. 슬라이드에서 못 읽는 문자를 출력해 보세요."
   ]
  },
  {
   "cell_type": "code",
   "execution_count": null,
   "id": "cf22dd24",
   "metadata": {},
   "outputs": [],
   "source": [
    "# your code here."
   ]
  },
  {
   "cell_type": "markdown",
   "id": "042450f7",
   "metadata": {},
   "source": [
    "### 2. Data Type"
   ]
  },
  {
   "cell_type": "code",
   "execution_count": null,
   "id": "8ffb87f0",
   "metadata": {},
   "outputs": [],
   "source": [
    "import pandas as pd"
   ]
  },
  {
   "cell_type": "code",
   "execution_count": null,
   "id": "3056ae70",
   "metadata": {},
   "outputs": [],
   "source": [
    "cat = pd.Categorical(['Venti','Medium','Medium', 'Tall','Venti','Short','Venti'], \n",
    "                     ['Medium', 'Tall', 'Venti'],ordered=True)\n",
    "cat = pd.Series(cat)\n",
    "df = pd.DataFrame({\"Person\": [\"Harry\", \"Hermione\", \"Ron\", \"Neville\", \"Sirius\", \"Albus\", \"Luna\"], \"Size\": cat})"
   ]
  },
  {
   "cell_type": "code",
   "execution_count": null,
   "id": "687b95ee",
   "metadata": {},
   "outputs": [],
   "source": [
    "df['Size'].dtype"
   ]
  },
  {
   "cell_type": "code",
   "execution_count": null,
   "id": "5163e054",
   "metadata": {},
   "outputs": [],
   "source": [
    "df.Size.max()"
   ]
  },
  {
   "cell_type": "code",
   "execution_count": null,
   "id": "5020ba7f",
   "metadata": {},
   "outputs": [],
   "source": [
    "df['Count'] = [3,3,2,2,1,5,3]\n",
    "df.groupby('Size')['Count'].sum().plot.bar()"
   ]
  },
  {
   "cell_type": "code",
   "execution_count": null,
   "id": "8d795081",
   "metadata": {},
   "outputs": [],
   "source": [
    "!pip install seaborn"
   ]
  },
  {
   "cell_type": "code",
   "execution_count": null,
   "id": "5a0fea55",
   "metadata": {},
   "outputs": [],
   "source": [
    "import seaborn as sns\n",
    "sns.boxplot(x='Size', y='Count', data=df)"
   ]
  },
  {
   "cell_type": "code",
   "execution_count": null,
   "id": "9a21c26f",
   "metadata": {},
   "outputs": [],
   "source": [
    "df.loc['0', 'Size'] = 'Short'"
   ]
  },
  {
   "cell_type": "code",
   "execution_count": null,
   "id": "82da5f29",
   "metadata": {},
   "outputs": [],
   "source": [
    "!pip install statsmodels"
   ]
  },
  {
   "cell_type": "code",
   "execution_count": null,
   "id": "72af5d1c",
   "metadata": {},
   "outputs": [],
   "source": [
    "from statsmodels.graphics.mosaicplot import mosaic\n",
    "df['Sugar'] = ['Y']*2 + ['N']*5\n",
    "mosaic(df, ['Size','Sugar'])"
   ]
  },
  {
   "cell_type": "code",
   "execution_count": null,
   "id": "b5a4e087",
   "metadata": {},
   "outputs": [],
   "source": [
    "%matplotlib inline\n",
    "import matplotlib.pylab as plt"
   ]
  },
  {
   "cell_type": "code",
   "execution_count": null,
   "id": "cd650346",
   "metadata": {},
   "outputs": [],
   "source": [
    "import random\n",
    "result = []\n",
    "for trial in range(1, 1000):\n",
    "    res = []\n",
    "    for i in range(0, trial):\n",
    "        n = random.randint(1,6)\n",
    "        res.append(n)\n",
    "    p = res.count(1)/trial\n",
    "    result.append(p)\n",
    "pd.Series(result).plot()\n",
    "plt.axhline(y=1/6, color='r', linewidth=1)"
   ]
  },
  {
   "cell_type": "code",
   "execution_count": null,
   "id": "faa3e1f6",
   "metadata": {},
   "outputs": [],
   "source": [
    "import numpy as np\n",
    "location = ['서울','경기','인천','강원','충남','충북','대전','전북','전남','광주','경북','대구','부산','울산','경남','제주','세종']\n",
    "age = [10, 20, 30, 40 ]\n",
    "gender = ['M','F','E']\n",
    "party = ['Red', 'Blue']\n",
    "df = pd.DataFrame()                                                                                                                                                                     \n",
    "N = 10000                                                                                                                                                                                \n",
    "df[\"location\"] = np.random.choice(location, size=N, p=[0.1,0.1,0.1]+[0.05]*14)                                                                                                                                     \n",
    "df[\"age\"] = np.random.choice(range(20, 80), size=N)                                                                                                                                               \n",
    "df[\"gender\"] = np.random.choice(gender, p = [0.495, 0.495, 0.01], size=N)  \n",
    "df['party'] = df.apply(lambda x: np.random.choice(party, p=[0.1, 0.9]) if x['location']=='대전' else np.random.choice(party), axis=1)\n",
    "df"
   ]
  },
  {
   "cell_type": "markdown",
   "id": "2a4da7b3",
   "metadata": {},
   "source": [
    "#### Q2. 임의의 1명을 골랐을 때, 그 사람이 대전 사람일 확률은?"
   ]
  },
  {
   "cell_type": "code",
   "execution_count": null,
   "id": "12182b6a",
   "metadata": {},
   "outputs": [],
   "source": [
    "p_dj = # your code here."
   ]
  },
  {
   "cell_type": "markdown",
   "id": "94edb430",
   "metadata": {},
   "source": [
    "#### Q3. 임의의 1명을 골랐을 때, 그 사람이 Blue 당을 지지할 확률은?"
   ]
  },
  {
   "cell_type": "code",
   "execution_count": null,
   "id": "0c1b4ce3",
   "metadata": {},
   "outputs": [],
   "source": [
    "p_blue = # your code here."
   ]
  },
  {
   "cell_type": "markdown",
   "id": "6576be3e",
   "metadata": {},
   "source": [
    "#### Q4. 대전 사람일 때, 그 사람이 Blue 당을 지지할 확률은?"
   ]
  },
  {
   "cell_type": "code",
   "execution_count": null,
   "id": "3570a1f9",
   "metadata": {},
   "outputs": [],
   "source": [
    "p_db = # your code here."
   ]
  }
 ],
 "metadata": {
  "kernelspec": {
   "display_name": "Python 3 (ipykernel)",
   "language": "python",
   "name": "python3"
  },
  "language_info": {
   "codemirror_mode": {
    "name": "ipython",
    "version": 3
   },
   "file_extension": ".py",
   "mimetype": "text/x-python",
   "name": "python",
   "nbconvert_exporter": "python",
   "pygments_lexer": "ipython3",
   "version": "3.7.11"
  }
 },
 "nbformat": 4,
 "nbformat_minor": 5
}
