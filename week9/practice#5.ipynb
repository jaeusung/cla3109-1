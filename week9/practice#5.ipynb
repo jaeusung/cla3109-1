{
 "cells": [
  {
   "cell_type": "code",
   "execution_count": 11,
   "id": "a3d6aa15",
   "metadata": {},
   "outputs": [
    {
     "name": "stdout",
     "output_type": "stream",
     "text": [
      "Collecting sklearn\n",
      "  Downloading sklearn-0.0.tar.gz (1.1 kB)\n",
      "Collecting scikit-learn\n",
      "  Downloading scikit_learn-1.0.2-cp37-cp37m-macosx_10_13_x86_64.whl (7.8 MB)\n",
      "\u001b[K     |████████████████████████████████| 7.8 MB 342 kB/s eta 0:00:01\n",
      "\u001b[?25hCollecting joblib>=0.11\n",
      "  Using cached joblib-1.1.0-py2.py3-none-any.whl (306 kB)\n",
      "Requirement already satisfied: scipy>=1.1.0 in /Users/dhchoi/opt/miniconda3/lib/python3.7/site-packages (from scikit-learn->sklearn) (1.7.3)\n",
      "Requirement already satisfied: numpy>=1.14.6 in /Users/dhchoi/opt/miniconda3/lib/python3.7/site-packages (from scikit-learn->sklearn) (1.21.2)\n",
      "Collecting threadpoolctl>=2.0.0\n",
      "  Using cached threadpoolctl-3.1.0-py3-none-any.whl (14 kB)\n",
      "Building wheels for collected packages: sklearn\n",
      "  Building wheel for sklearn (setup.py) ... \u001b[?25ldone\n",
      "\u001b[?25h  Created wheel for sklearn: filename=sklearn-0.0-py2.py3-none-any.whl size=1310 sha256=6f8a699635366ba7cb55a7bbb1b0ea4399f6e5adada9da03714ee2d4abb15f4f\n",
      "  Stored in directory: /Users/dhchoi/Library/Caches/pip/wheels/46/ef/c3/157e41f5ee1372d1be90b09f74f82b10e391eaacca8f22d33e\n",
      "Successfully built sklearn\n",
      "Installing collected packages: threadpoolctl, joblib, scikit-learn, sklearn\n",
      "Successfully installed joblib-1.1.0 scikit-learn-1.0.2 sklearn-0.0 threadpoolctl-3.1.0\n"
     ]
    }
   ],
   "source": [
    "!pip install sklearn"
   ]
  },
  {
   "cell_type": "code",
   "execution_count": 7,
   "id": "289e3041",
   "metadata": {},
   "outputs": [],
   "source": [
    "import pandas as pd\n",
    "import numpy as np\n",
    "import matplotlib.pyplot as plt\n",
    "%matplotlib inline"
   ]
  },
  {
   "cell_type": "code",
   "execution_count": 8,
   "id": "9c7c675b",
   "metadata": {},
   "outputs": [],
   "source": [
    "points = pd.read_csv('data.csv')"
   ]
  },
  {
   "cell_type": "code",
   "execution_count": 9,
   "id": "4f561c96",
   "metadata": {},
   "outputs": [
    {
     "data": {
      "image/png": "[encoded data removed]",
      "text/plain": [
       "<Figure size 432x288 with 1 Axes>"
      ]
     },
     "metadata": {
      "needs_background": "light"
     },
     "output_type": "display_data"
    }
   ],
   "source": [
    "x = np.array(points['hours'])\n",
    "y = np.array(points['score'])\n",
    "\n",
    "#Plot the dataset\n",
    "plt.scatter(x,y)\n",
    "plt.xlabel('Hours of study')\n",
    "plt.ylabel('Test scores')\n",
    "plt.title('Dataset')\n",
    "plt.show()"
   ]
  },
  {
   "cell_type": "markdown",
   "id": "524496ba",
   "metadata": {},
   "source": [
    "### practice 1. 단순 선형 회귀 분석\n",
    " - Plot 그리기"
   ]
  },
  {
   "cell_type": "code",
   "execution_count": 17,
   "id": "136f3169",
   "metadata": {},
   "outputs": [
    {
     "data": {
      "image/png": "[encoded data removed]",
      "text/plain": [
       "<Figure size 432x288 with 1 Axes>"
      ]
     },
     "metadata": {
      "needs_background": "light"
     },
     "output_type": "display_data"
    }
   ],
   "source": [
    "# your code here."
   ]
  },
  {
   "cell_type": "markdown",
   "id": "46e1a6bb",
   "metadata": {},
   "source": [
    " - Slope와 Y-intercept 구하기"
   ]
  },
  {
   "cell_type": "code",
   "execution_count": 18,
   "id": "7a9a8dd3",
   "metadata": {},
   "outputs": [
    {
     "name": "stdout",
     "output_type": "stream",
     "text": [
      "Model slope:     1.3224310227553597\n",
      "Model intercept: 7.991020982270399\n"
     ]
    }
   ],
   "source": [
    "# your code here."
   ]
  },
  {
   "cell_type": "markdown",
   "id": "60c10c65",
   "metadata": {},
   "source": [
    " - Model의 설명력 구하기"
   ]
  },
  {
   "cell_type": "code",
   "execution_count": 30,
   "id": "3d79f330",
   "metadata": {},
   "outputs": [],
   "source": [
    "# your code here."
   ]
  },
  {
   "cell_type": "markdown",
   "id": "004d8e5d",
   "metadata": {},
   "source": [
    " - 모델 요약하기 & 가설검증하기"
   ]
  },
  {
   "cell_type": "code",
   "execution_count": 53,
   "id": "8e95497f",
   "metadata": {},
   "outputs": [
    {
     "data": {
      "text/html": [
       "<table class=\"simpletable\">\n",
       "<caption>OLS Regression Results</caption>\n",
       "<tr>\n",
       "  <th>Dep. Variable:</th>          <td>score</td>      <th>  R-squared:         </th> <td>   0.599</td>\n",
       "</tr>\n",
       "<tr>\n",
       "  <th>Model:</th>                   <td>OLS</td>       <th>  Adj. R-squared:    </th> <td>   0.595</td>\n",
       "</tr>\n",
       "<tr>\n",
       "  <th>Method:</th>             <td>Least Squares</td>  <th>  F-statistic:       </th> <td>   146.2</td>\n",
       "</tr>\n",
       "<tr>\n",
       "  <th>Date:</th>             <td>Fri, 29 Apr 2022</td> <th>  Prob (F-statistic):</th> <td>3.86e-21</td>\n",
       "</tr>\n",
       "<tr>\n",
       "  <th>Time:</th>                 <td>00:02:24</td>     <th>  Log-Likelihood:    </th> <td> -377.03</td>\n",
       "</tr>\n",
       "<tr>\n",
       "  <th>No. Observations:</th>      <td>   100</td>      <th>  AIC:               </th> <td>   758.1</td>\n",
       "</tr>\n",
       "<tr>\n",
       "  <th>Df Residuals:</th>          <td>    98</td>      <th>  BIC:               </th> <td>   763.3</td>\n",
       "</tr>\n",
       "<tr>\n",
       "  <th>Df Model:</th>              <td>     1</td>      <th>                     </th>     <td> </td>   \n",
       "</tr>\n",
       "<tr>\n",
       "  <th>Covariance Type:</th>      <td>nonrobust</td>    <th>                     </th>     <td> </td>   \n",
       "</tr>\n",
       "</table>\n",
       "<table class=\"simpletable\">\n",
       "<tr>\n",
       "      <td></td>         <th>coef</th>     <th>std err</th>      <th>t</th>      <th>P>|t|</th>  <th>[0.025</th>    <th>0.975]</th>  \n",
       "</tr>\n",
       "<tr>\n",
       "  <th>Intercept</th> <td>    7.9910</td> <td>    5.459</td> <td>    1.464</td> <td> 0.146</td> <td>   -2.842</td> <td>   18.824</td>\n",
       "</tr>\n",
       "<tr>\n",
       "  <th>hours</th>     <td>    1.3224</td> <td>    0.109</td> <td>   12.090</td> <td> 0.000</td> <td>    1.105</td> <td>    1.539</td>\n",
       "</tr>\n",
       "</table>\n",
       "<table class=\"simpletable\">\n",
       "<tr>\n",
       "  <th>Omnibus:</th>       <td> 0.674</td> <th>  Durbin-Watson:     </th> <td>   2.151</td>\n",
       "</tr>\n",
       "<tr>\n",
       "  <th>Prob(Omnibus):</th> <td> 0.714</td> <th>  Jarque-Bera (JB):  </th> <td>   0.808</td>\n",
       "</tr>\n",
       "<tr>\n",
       "  <th>Skew:</th>          <td> 0.148</td> <th>  Prob(JB):          </th> <td>   0.668</td>\n",
       "</tr>\n",
       "<tr>\n",
       "  <th>Kurtosis:</th>      <td> 2.674</td> <th>  Cond. No.          </th> <td>    257.</td>\n",
       "</tr>\n",
       "</table><br/><br/>Notes:<br/>[1] Standard Errors assume that the covariance matrix of the errors is correctly specified."
      ],
      "text/plain": [
       "<class 'statsmodels.iolib.summary.Summary'>\n",
       "\"\"\"\n",
       "                            OLS Regression Results                            \n",
       "==============================================================================\n",
       "Dep. Variable:                  score   R-squared:                       0.599\n",
       "Model:                            OLS   Adj. R-squared:                  0.595\n",
       "Method:                 Least Squares   F-statistic:                     146.2\n",
       "Date:                Fri, 29 Apr 2022   Prob (F-statistic):           3.86e-21\n",
       "Time:                        00:02:24   Log-Likelihood:                -377.03\n",
       "No. Observations:                 100   AIC:                             758.1\n",
       "Df Residuals:                      98   BIC:                             763.3\n",
       "Df Model:                           1                                         \n",
       "Covariance Type:            nonrobust                                         \n",
       "==============================================================================\n",
       "                 coef    std err          t      P>|t|      [0.025      0.975]\n",
       "------------------------------------------------------------------------------\n",
       "Intercept      7.9910      5.459      1.464      0.146      -2.842      18.824\n",
       "hours          1.3224      0.109     12.090      0.000       1.105       1.539\n",
       "==============================================================================\n",
       "Omnibus:                        0.674   Durbin-Watson:                   2.151\n",
       "Prob(Omnibus):                  0.714   Jarque-Bera (JB):                0.808\n",
       "Skew:                           0.148   Prob(JB):                        0.668\n",
       "Kurtosis:                       2.674   Cond. No.                         257.\n",
       "==============================================================================\n",
       "\n",
       "Notes:\n",
       "[1] Standard Errors assume that the covariance matrix of the errors is correctly specified.\n",
       "\"\"\""
      ]
     },
     "execution_count": 53,
     "metadata": {},
     "output_type": "execute_result"
    }
   ],
   "source": [
    "# your code here."
   ]
  },
  {
   "cell_type": "markdown",
   "id": "af7a2832",
   "metadata": {},
   "source": [
    "### practice 2. 다중 선형 회귀 분석 "
   ]
  },
  {
   "cell_type": "code",
   "execution_count": 73,
   "id": "015d9841",
   "metadata": {},
   "outputs": [],
   "source": [
    "gpa = pd.read_csv('data2.csv')"
   ]
  },
  {
   "cell_type": "markdown",
   "id": "7cdaf993",
   "metadata": {},
   "source": [
    " - Plot 그리기"
   ]
  },
  {
   "cell_type": "code",
   "execution_count": null,
   "id": "e15e49dd",
   "metadata": {},
   "outputs": [],
   "source": [
    "# your code here."
   ]
  },
  {
   "cell_type": "markdown",
   "id": "b2075f8c",
   "metadata": {},
   "source": [
    " - 가설 검정하기"
   ]
  },
  {
   "cell_type": "code",
   "execution_count": 74,
   "id": "4a3449d9",
   "metadata": {},
   "outputs": [
    {
     "data": {
      "text/html": [
       "<table class=\"simpletable\">\n",
       "<caption>OLS Regression Results</caption>\n",
       "<tr>\n",
       "  <th>Dep. Variable:</th>          <td>CGPA</td>       <th>  R-squared:         </th> <td>   0.400</td>\n",
       "</tr>\n",
       "<tr>\n",
       "  <th>Model:</th>                   <td>OLS</td>       <th>  Adj. R-squared:    </th> <td>   0.381</td>\n",
       "</tr>\n",
       "<tr>\n",
       "  <th>Method:</th>             <td>Least Squares</td>  <th>  F-statistic:       </th> <td>   21.31</td>\n",
       "</tr>\n",
       "<tr>\n",
       "  <th>Date:</th>             <td>Fri, 29 Apr 2022</td> <th>  Prob (F-statistic):</th> <td>1.16e-10</td>\n",
       "</tr>\n",
       "<tr>\n",
       "  <th>Time:</th>                 <td>00:35:45</td>     <th>  Log-Likelihood:    </th> <td> -87.001</td>\n",
       "</tr>\n",
       "<tr>\n",
       "  <th>No. Observations:</th>      <td>   100</td>      <th>  AIC:               </th> <td>   182.0</td>\n",
       "</tr>\n",
       "<tr>\n",
       "  <th>Df Residuals:</th>          <td>    96</td>      <th>  BIC:               </th> <td>   192.4</td>\n",
       "</tr>\n",
       "<tr>\n",
       "  <th>Df Model:</th>              <td>     3</td>      <th>                     </th>     <td> </td>   \n",
       "</tr>\n",
       "<tr>\n",
       "  <th>Covariance Type:</th>      <td>nonrobust</td>    <th>                     </th>     <td> </td>   \n",
       "</tr>\n",
       "</table>\n",
       "<table class=\"simpletable\">\n",
       "<tr>\n",
       "      <td></td>         <th>coef</th>     <th>std err</th>      <th>t</th>      <th>P>|t|</th>  <th>[0.025</th>    <th>0.975]</th>  \n",
       "</tr>\n",
       "<tr>\n",
       "  <th>Intercept</th> <td>   -0.1533</td> <td>    0.323</td> <td>   -0.475</td> <td> 0.636</td> <td>   -0.794</td> <td>    0.488</td>\n",
       "</tr>\n",
       "<tr>\n",
       "  <th>HGPA</th>      <td>    0.3764</td> <td>    0.114</td> <td>    3.294</td> <td> 0.001</td> <td>    0.150</td> <td>    0.603</td>\n",
       "</tr>\n",
       "<tr>\n",
       "  <th>SAT</th>       <td>    0.0012</td> <td>    0.000</td> <td>    4.046</td> <td> 0.000</td> <td>    0.001</td> <td>    0.002</td>\n",
       "</tr>\n",
       "<tr>\n",
       "  <th>QLR</th>       <td>    0.0227</td> <td>    0.051</td> <td>    0.445</td> <td> 0.657</td> <td>   -0.079</td> <td>    0.124</td>\n",
       "</tr>\n",
       "</table>\n",
       "<table class=\"simpletable\">\n",
       "<tr>\n",
       "  <th>Omnibus:</th>       <td> 1.679</td> <th>  Durbin-Watson:     </th> <td>   1.906</td>\n",
       "</tr>\n",
       "<tr>\n",
       "  <th>Prob(Omnibus):</th> <td> 0.432</td> <th>  Jarque-Bera (JB):  </th> <td>   1.658</td>\n",
       "</tr>\n",
       "<tr>\n",
       "  <th>Skew:</th>          <td> 0.303</td> <th>  Prob(JB):          </th> <td>   0.437</td>\n",
       "</tr>\n",
       "<tr>\n",
       "  <th>Kurtosis:</th>      <td> 2.823</td> <th>  Cond. No.          </th> <td>5.71e+03</td>\n",
       "</tr>\n",
       "</table><br/><br/>Notes:<br/>[1] Standard Errors assume that the covariance matrix of the errors is correctly specified.<br/>[2] The condition number is large, 5.71e+03. This might indicate that there are<br/>strong multicollinearity or other numerical problems."
      ],
      "text/plain": [
       "<class 'statsmodels.iolib.summary.Summary'>\n",
       "\"\"\"\n",
       "                            OLS Regression Results                            \n",
       "==============================================================================\n",
       "Dep. Variable:                   CGPA   R-squared:                       0.400\n",
       "Model:                            OLS   Adj. R-squared:                  0.381\n",
       "Method:                 Least Squares   F-statistic:                     21.31\n",
       "Date:                Fri, 29 Apr 2022   Prob (F-statistic):           1.16e-10\n",
       "Time:                        00:35:45   Log-Likelihood:                -87.001\n",
       "No. Observations:                 100   AIC:                             182.0\n",
       "Df Residuals:                      96   BIC:                             192.4\n",
       "Df Model:                           3                                         \n",
       "Covariance Type:            nonrobust                                         \n",
       "==============================================================================\n",
       "                 coef    std err          t      P>|t|      [0.025      0.975]\n",
       "------------------------------------------------------------------------------\n",
       "Intercept     -0.1533      0.323     -0.475      0.636      -0.794       0.488\n",
       "HGPA           0.3764      0.114      3.294      0.001       0.150       0.603\n",
       "SAT            0.0012      0.000      4.046      0.000       0.001       0.002\n",
       "QLR            0.0227      0.051      0.445      0.657      -0.079       0.124\n",
       "==============================================================================\n",
       "Omnibus:                        1.679   Durbin-Watson:                   1.906\n",
       "Prob(Omnibus):                  0.432   Jarque-Bera (JB):                1.658\n",
       "Skew:                           0.303   Prob(JB):                        0.437\n",
       "Kurtosis:                       2.823   Cond. No.                     5.71e+03\n",
       "==============================================================================\n",
       "\n",
       "Notes:\n",
       "[1] Standard Errors assume that the covariance matrix of the errors is correctly specified.\n",
       "[2] The condition number is large, 5.71e+03. This might indicate that there are\n",
       "strong multicollinearity or other numerical problems.\n",
       "\"\"\""
      ]
     },
     "execution_count": 74,
     "metadata": {},
     "output_type": "execute_result"
    }
   ],
   "source": [
    "# your code here."
   ]
  },
  {
   "cell_type": "markdown",
   "id": "a503c33e",
   "metadata": {},
   "source": [
    "### practice 3. ANOVA"
   ]
  },
  {
   "cell_type": "code",
   "execution_count": 91,
   "id": "b8562d7d",
   "metadata": {},
   "outputs": [],
   "source": [
    "sprays = pd.read_csv(\"data3.csv\")"
   ]
  },
  {
   "cell_type": "code",
   "execution_count": 94,
   "id": "3beab877",
   "metadata": {},
   "outputs": [
    {
     "data": {
      "image/png": "[encoded data removed]",
      "text/plain": [
       "<Figure size 432x288 with 1 Axes>"
      ]
     },
     "metadata": {
      "needs_background": "light"
     },
     "output_type": "display_data"
    }
   ],
   "source": [
    "ax = sns.boxplot(x='spray', y='count', data=sprays, color='#99c2a2')\n",
    "ax = sns.swarmplot(x=\"spray\", y=\"count\", data=sprays, color='#7d0013')\n",
    "plt.show()"
   ]
  },
  {
   "cell_type": "markdown",
   "id": "e9d28df6",
   "metadata": {},
   "source": [
    " - One-Way ANOVA 실습"
   ]
  },
  {
   "cell_type": "code",
   "execution_count": 96,
   "id": "7de8431c",
   "metadata": {},
   "outputs": [
    {
     "data": {
      "text/html": [
       "<div>\n",
       "<style scoped>\n",
       "    .dataframe tbody tr th:only-of-type {\n",
       "        vertical-align: middle;\n",
       "    }\n",
       "\n",
       "    .dataframe tbody tr th {\n",
       "        vertical-align: top;\n",
       "    }\n",
       "\n",
       "    .dataframe thead th {\n",
       "        text-align: right;\n",
       "    }\n",
       "</style>\n",
       "<table border=\"1\" class=\"dataframe\">\n",
       "  <thead>\n",
       "    <tr style=\"text-align: right;\">\n",
       "      <th></th>\n",
       "      <th>sum_sq</th>\n",
       "      <th>df</th>\n",
       "      <th>F</th>\n",
       "      <th>PR(&gt;F)</th>\n",
       "    </tr>\n",
       "  </thead>\n",
       "  <tbody>\n",
       "    <tr>\n",
       "      <th>C(spray)</th>\n",
       "      <td>2668.833333</td>\n",
       "      <td>5.0</td>\n",
       "      <td>34.702282</td>\n",
       "      <td>3.182584e-17</td>\n",
       "    </tr>\n",
       "    <tr>\n",
       "      <th>Residual</th>\n",
       "      <td>1015.166667</td>\n",
       "      <td>66.0</td>\n",
       "      <td>NaN</td>\n",
       "      <td>NaN</td>\n",
       "    </tr>\n",
       "  </tbody>\n",
       "</table>\n",
       "</div>"
      ],
      "text/plain": [
       "               sum_sq    df          F        PR(>F)\n",
       "C(spray)  2668.833333   5.0  34.702282  3.182584e-17\n",
       "Residual  1015.166667  66.0        NaN           NaN"
      ]
     },
     "execution_count": 96,
     "metadata": {},
     "output_type": "execute_result"
    }
   ],
   "source": [
    "# your code here."
   ]
  },
  {
   "cell_type": "markdown",
   "id": "92f4c76d",
   "metadata": {},
   "source": [
    " - Post Hoc Test 실습"
   ]
  },
  {
   "cell_type": "code",
   "execution_count": 97,
   "id": "84846204",
   "metadata": {},
   "outputs": [
    {
     "name": "stdout",
     "output_type": "stream",
     "text": [
      " Multiple Comparison of Means - Tukey HSD, FWER=0.05 \n",
      "=====================================================\n",
      "group1 group2 meandiff p-adj   lower    upper  reject\n",
      "-----------------------------------------------------\n",
      "     A      B   0.8333 0.9952  -3.8661  5.5327  False\n",
      "     A      C -12.4167    0.0 -17.1161 -7.7173   True\n",
      "     A      D  -9.5833    0.0 -14.2827 -4.8839   True\n",
      "     A      E    -11.0    0.0 -15.6994 -6.3006   True\n",
      "     A      F   2.1667 0.7542  -2.5327  6.8661  False\n",
      "     B      C   -13.25    0.0 -17.9494 -8.5506   True\n",
      "     B      D -10.4167    0.0 -15.1161 -5.7173   True\n",
      "     B      E -11.8333    0.0 -16.5327 -7.1339   True\n",
      "     B      F   1.3333 0.9603  -3.3661  6.0327  False\n",
      "     C      D   2.8333 0.4921  -1.8661  7.5327  False\n",
      "     C      E   1.4167 0.9489  -3.2827  6.1161  False\n",
      "     C      F  14.5833    0.0   9.8839 19.2827   True\n",
      "     D      E  -1.4167 0.9489  -6.1161  3.2827  False\n",
      "     D      F    11.75    0.0   7.0506 16.4494   True\n",
      "     E      F  13.1667    0.0   8.4673 17.8661   True\n",
      "-----------------------------------------------------\n"
     ]
    }
   ],
   "source": [
    "# your code here."
   ]
  }
 ],
 "metadata": {
  "kernelspec": {
   "display_name": "Python 3 (ipykernel)",
   "language": "python",
   "name": "python3"
  },
  "language_info": {
   "codemirror_mode": {
    "name": "ipython",
    "version": 3
   },
   "file_extension": ".py",
   "mimetype": "text/x-python",
   "name": "python",
   "nbconvert_exporter": "python",
   "pygments_lexer": "ipython3",
   "version": "3.7.11"
  }
 },
 "nbformat": 4,
 "nbformat_minor": 5
}
